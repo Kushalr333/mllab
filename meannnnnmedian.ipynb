{
 "cells": [
  {
   "cell_type": "code",
   "execution_count": null,
   "id": "b7513433",
   "metadata": {},
   "outputs": [],
   "source": []
  },
  {
   "cell_type": "code",
   "execution_count": null,
   "id": "68b888ba",
   "metadata": {},
   "outputs": [],
   "source": []
  },
  {
   "cell_type": "code",
   "execution_count": null,
   "id": "9427d42e",
   "metadata": {},
   "outputs": [],
   "source": []
  },
  {
   "cell_type": "code",
   "execution_count": null,
   "id": "fb4ee5dd",
   "metadata": {},
   "outputs": [],
   "source": []
  },
  {
   "cell_type": "code",
   "execution_count": 7,
   "id": "67b96547",
   "metadata": {},
   "outputs": [
    {
     "name": "stdout",
     "output_type": "stream",
     "text": [
      "Mean: 121.8\n",
      "Median: 116.25\n",
      "Mode: [115.3, 195.5, 120.5, 116.2, 90.4, 105.6, 110.9, 116.3, 122.3, 125] (if multiple modes exist)\n",
      "Standard Deviation: 26.29627350025094\n",
      "Variance: 691.4939999999998\n",
      "Min-Max Normalization: [0.23691722169362506, 1.0, 0.2863939105613701, 0.24548049476688866, 0.0, 0.14462416745956222, 0.1950523311132255, 0.24643196955280677, 0.3035204567078972, 0.32921027592768787]\n",
      "Standardization (Z-Score): [-0.24718331287275255, 2.80267848595721, -0.0494366625745504, -0.2129579310903712, -1.1940855421852965, -0.6160568720828603, -0.4145074015866155, -0.20915511089232908, 0.019014100990211735, 0.12169024633735522]\n"
     ]
    }
   ],
   "source": [
    "# Given array\n",
    "data = [115.3, 195.5, 120.5, 116.2, 90.4, 105.6, 110.9, 116.3, 122.3, 125]\n",
    "\n",
    "# Mean\n",
    "mean = sum(data) / len(data)\n",
    "\n",
    "# Median\n",
    "sorted_data = sorted(data)\n",
    "n = len(data)\n",
    "\n",
    "if n % 2 == 0:\n",
    "    median = (sorted_data[n // 2 - 1] + sorted_data[n // 2]) / 2\n",
    "else:\n",
    "    median = sorted_data[n // 2]\n",
    "\n",
    "# Mode\n",
    "# Count occurrences of each value\n",
    "value_counts = {}\n",
    "for value in data:\n",
    "    if value in value_counts:\n",
    "        value_counts[value] += 1\n",
    "    else:\n",
    "        value_counts[value] = 1\n",
    "\n",
    "# Find the mode(s)\n",
    "max_count = max(value_counts.values())\n",
    "mode = [value for value, count in value_counts.items() if count == max_count]\n",
    "\n",
    "# Standard Deviation\n",
    "squared_deviations = [(x - mean) ** 2 for x in data]\n",
    "std_dev = (sum(squared_deviations) / len(data)) ** 0.5\n",
    "\n",
    "# Variance\n",
    "variance = std_dev ** 2\n",
    "\n",
    "# Min-Max Normalization\n",
    "min_val = min(data)\n",
    "max_val = max(data)\n",
    "normalized_data = [(x - min_val) / (max_val - min_val) for x in data]\n",
    "\n",
    "# Standardization (Z-Score)\n",
    "standardized_data = [(x - mean) / std_dev for x in data]\n",
    "\n",
    "# Printing the results\n",
    "print(f\"Mean: {mean}\")\n",
    "print(f\"Median: {median}\")\n",
    "print(f\"Mode: {mode} (if multiple modes exist)\")\n",
    "print(f\"Standard Deviation: {std_dev}\")\n",
    "print(f\"Variance: {variance}\")\n",
    "print(f\"Min-Max Normalization: {normalized_data}\")\n",
    "print(f\"Standardization (Z-Score): {standardized_data}\")\n"
   ]
  },
  {
   "cell_type": "code",
   "execution_count": null,
   "id": "6f2bfff8",
   "metadata": {},
   "outputs": [],
   "source": []
  }
 ],
 "metadata": {
  "kernelspec": {
   "display_name": "Python 3 (ipykernel)",
   "language": "python",
   "name": "python3"
  },
  "language_info": {
   "codemirror_mode": {
    "name": "ipython",
    "version": 3
   },
   "file_extension": ".py",
   "mimetype": "text/x-python",
   "name": "python",
   "nbconvert_exporter": "python",
   "pygments_lexer": "ipython3",
   "version": "3.9.12"
  }
 },
 "nbformat": 4,
 "nbformat_minor": 5
}
